{
  "nbformat": 4,
  "nbformat_minor": 0,
  "metadata": {
    "colab": {
      "provenance": [],
      "authorship_tag": "ABX9TyPzLieKNULudrRHu3vCr+Mk",
      "include_colab_link": true
    },
    "kernelspec": {
      "name": "python3",
      "display_name": "Python 3"
    },
    "language_info": {
      "name": "python"
    }
  },
  "cells": [
    {
      "cell_type": "markdown",
      "metadata": {
        "id": "view-in-github",
        "colab_type": "text"
      },
      "source": [
        "<a href=\"https://colab.research.google.com/github/oscar9151/Introduction-to-Computers/blob/main/0508.ipynb\" target=\"_parent\"><img src=\"https://colab.research.google.com/assets/colab-badge.svg\" alt=\"Open In Colab\"/></a>"
      ]
    },
    {
      "cell_type": "code",
      "source": [
        "print(\"410540990\"+\"賴相丞\")"
      ],
      "metadata": {
        "colab": {
          "base_uri": "https://localhost:8080/"
        },
        "id": "cI6yE_vFW576",
        "outputId": "3c741055-0ddd-4e53-9e65-84895f43a652"
      },
      "execution_count": null,
      "outputs": [
        {
          "output_type": "stream",
          "name": "stdout",
          "text": [
            "410540990賴相丞\n"
          ]
        }
      ]
    },
    {
      "cell_type": "code",
      "execution_count": null,
      "metadata": {
        "colab": {
          "base_uri": "https://localhost:8080/"
        },
        "id": "idgOoTTUSfQz",
        "outputId": "7b1df2c9-543e-41e1-bc00-77109034c67d"
      },
      "outputs": [
        {
          "output_type": "stream",
          "name": "stdout",
          "text": [
            "請輸入體溫33\n",
            "體溫異常，請重新測量！\n"
          ]
        }
      ],
      "source": [
        "temperature=float(input(\"請輸入體溫\"))\n",
        "if(temperature>=37.5):\n",
        "    print(\"體溫過高！\")\n",
        "elif(37.4<=temperature<=37):\n",
        "    print(\"體溫略高！\")\n",
        "elif(34<=temperature<=36.9):\n",
        "    print(\"體溫正常！\")\n",
        "else:\n",
        "    print(\"體溫異常，請重新測量！\")"
      ]
    },
    {
      "cell_type": "code",
      "source": [
        "sc=int(input(\"請輸入成績\"))\n",
        "if(sc>90):\n",
        "    print(\"A\")\n",
        "elif(80<=sc<=90):\n",
        "    print(\"B\")\n",
        "elif(60<=sc<=69):\n",
        "    print(\"C\")\n",
        "else:\n",
        "    print(\"D\")"
      ],
      "metadata": {
        "colab": {
          "base_uri": "https://localhost:8080/"
        },
        "id": "FSDXlcndXEdm",
        "outputId": "b5ee7d5c-b038-41a8-8833-aff3423143fd"
      },
      "execution_count": null,
      "outputs": [
        {
          "output_type": "stream",
          "name": "stdout",
          "text": [
            "請輸入成績65\n",
            "C\n"
          ]
        }
      ]
    },
    {
      "cell_type": "code",
      "source": [
        "season=(input(\"請輸入月份\"))\n",
        "if season==\"3\"or\"4\"or\"5\":\n",
        "    print(season+\"月是春天！\")\n",
        "elif season==\"6\"or\"7\"or\"8\":\n",
        "    print(season+\"月是夏天！\")\n",
        "elif season==\"9\"or\"10\"or\"11\":\n",
        "    print(season+\"月是秋天！\")\n",
        "elif season==\"12\"or\"1\"or\"2\":\n",
        "    print(season+\"月是冬天！\")\n",
        "else:\n",
        "    print(\"月份不在範圍內！\")"
      ],
      "metadata": {
        "colab": {
          "base_uri": "https://localhost:8080/"
        },
        "id": "cUKCx1zAYCTY",
        "outputId": "48da9252-5693-4971-c2eb-f946e0512f01"
      },
      "execution_count": null,
      "outputs": [
        {
          "output_type": "stream",
          "name": "stdout",
          "text": [
            "請輸入月份3\n",
            "3月是春天！\n"
          ]
        }
      ]
    }
  ]
}